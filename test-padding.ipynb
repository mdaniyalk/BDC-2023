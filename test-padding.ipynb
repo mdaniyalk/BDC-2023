{
 "cells": [
  {
   "cell_type": "code",
   "execution_count": null,
   "metadata": {},
   "outputs": [],
   "source": [
    "import cv2\n",
    "import numpy as np\n",
    "\n",
    "# Load the image\n",
    "image = cv2.imread('DataTrain2.png')\n",
    "\n",
    "# Get the dimensions of the original image\n",
    "height, width, _ = image.shape\n",
    "\n",
    "unpadded_width = 200\n",
    "\n",
    "# Calculate the scale factor for resizing\n",
    "scale = unpadded_width / width\n",
    "\n",
    "# Calculate the new height while maintaining the aspect ratio\n",
    "unpadded_height = int(height * scale)\n",
    "\n",
    "# Resize the image using the calculated dimensions\n",
    "resized_image = cv2.resize(image, (unpadded_width, unpadded_height))\n",
    "\n",
    "height, width, _ = resized_image.shape\n",
    "\n",
    "# Define the desired output size\n",
    "desired_size = 224\n",
    "\n",
    "# Calculate the padding required on each side\n",
    "padding_height = (desired_size - height) // 2\n",
    "padding_width = (desired_size - width) // 2\n",
    "\n",
    "# Create a new blank image with the desired size and black color\n",
    "padded_image = np.zeros((desired_size, desired_size, 3), dtype=np.uint8)\n",
    "\n",
    "# Calculate the positions to place the original image in the center\n",
    "start_height = padding_height\n",
    "end_height = padding_height + height\n",
    "start_width = padding_width\n",
    "end_width = padding_width + width\n",
    "\n",
    "# Place the original image in the center of the padded image\n",
    "padded_image[start_height:end_height, start_width:end_width, :] = resized_image\n",
    "\n",
    "# Save the padded image\n",
    "cv2.imwrite('padded_image.jpg', padded_image)"
   ]
  },
  {
   "cell_type": "code",
   "execution_count": null,
   "metadata": {},
   "outputs": [],
   "source": [
    "import os\n",
    "import cv2\n",
    "import numpy as np\n",
    "\n",
    "# Define the path to the directory containing your image dataset\n",
    "dataset_path = 'train'\n",
    "\n",
    "# Initialize variables to accumulate the channel-wise sums\n",
    "channel_sums = np.zeros(3)\n",
    "channel_sums_squared = np.zeros(3)\n",
    "count = 0\n",
    "\n",
    "# Iterate over the images in the dataset\n",
    "for image_file in os.listdir(dataset_path):\n",
    "    if image_file.endswith('.jpg') or image_file.endswith('.png'):\n",
    "        # Load the image\n",
    "        image = cv2.imread(os.path.join(dataset_path, image_file))\n",
    "        \n",
    "        # Normalize the image pixel values to the range [0, 1]\n",
    "        normalized_image = image / 255.0\n",
    "\n",
    "        # Calculate the sums of each channel\n",
    "        channel_sums += np.sum(normalized_image, axis=(0, 1))\n",
    "        channel_sums_squared += np.sum(normalized_image ** 2, axis=(0, 1))\n",
    "\n",
    "        # Increment the count\n",
    "        count += image.shape[0] * image.shape[1]\n",
    "\n",
    "# Calculate the means for each channel\n",
    "channel_means = channel_sums / count\n",
    "\n",
    "# Calculate the standard deviations for each channel\n",
    "channel_stds = np.sqrt((channel_sums_squared / count) - (channel_means ** 2))\n",
    "\n",
    "print(\"Channel Means:\", channel_means*255)\n",
    "print(\"Channel Standard Deviations:\", channel_stds)\n"
   ]
  },
  {
   "cell_type": "code",
   "execution_count": null,
   "metadata": {},
   "outputs": [],
   "source": [
    "\n",
    "from utils import calculate_mean, calculate_std\n",
    "MEAN = (calculate_mean('train'))  # bdc_train mean\n",
    "STD = (calculate_std('train'))  # bdc_train std"
   ]
  },
  {
   "cell_type": "code",
   "execution_count": null,
   "metadata": {},
   "outputs": [],
   "source": [
    "MEAN"
   ]
  },
  {
   "cell_type": "code",
   "execution_count": null,
   "metadata": {},
   "outputs": [],
   "source": [
    "STD"
   ]
  }
 ],
 "metadata": {
  "kernelspec": {
   "display_name": "base",
   "language": "python",
   "name": "python3"
  },
  "language_info": {
   "codemirror_mode": {
    "name": "ipython",
    "version": 3
   },
   "file_extension": ".py",
   "mimetype": "text/x-python",
   "name": "python",
   "nbconvert_exporter": "python",
   "pygments_lexer": "ipython3",
   "version": "3.10.9"
  },
  "orig_nbformat": 4
 },
 "nbformat": 4,
 "nbformat_minor": 2
}
