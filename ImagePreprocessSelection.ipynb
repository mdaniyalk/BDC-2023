{
 "cells": [
  {
   "cell_type": "code",
   "execution_count": 1,
   "metadata": {},
   "outputs": [],
   "source": [
    "import numpy as np\n",
    "import matplotlib.pyplot as plt \n",
    "from preprocess_image import PreprocessImage\n",
    "import pandas as pd\n",
    "import cv2\n",
    "from sklearn.model_selection import train_test_split\n",
    "\n"
   ]
  },
  {
   "cell_type": "code",
   "execution_count": 2,
   "metadata": {},
   "outputs": [],
   "source": [
    "df_train = pd.read_csv('train/DataTrain.csv', delimiter=';')\n",
    "df_train = df_train.drop(['Unnamed: 0'], axis=1)\n",
    "df_train = df_train.drop([126, 457, 600]) # delete the wrong labeled data\n",
    "label_array = df_train['Vehicleregistrationplate'].to_numpy()\n",
    "path_train = df_train['NameofFile'].to_numpy()\n",
    "train_path_array, test_path_array, train_label_array, test_label_array = train_test_split(path_train, label_array, test_size=0.2, random_state=42)\n"
   ]
  },
  {
   "cell_type": "code",
   "execution_count": 20,
   "metadata": {},
   "outputs": [],
   "source": [
    "def plot_image(images, desc, idx_s, idx_e):\n",
    "    images = images[idx_s:idx_e]\n",
    "    num_images = len(images)\n",
    "    num_columns = 10\n",
    "    num_rows = np.ceil(num_images / num_columns).astype(int)\n",
    "\n",
    "    fig, axes = plt.subplots(num_rows, num_columns, figsize=(20, int(22*(num_rows/num_columns))), dpi=300)\n",
    "\n",
    "    fig.suptitle(f'{desc}_[{idx_s}:{idx_e-1}]', fontsize=16)  # Main plot title\n",
    "\n",
    "    for i, ax in enumerate(axes.flatten()):\n",
    "        if i < num_images:\n",
    "            img = images[i]\n",
    "            ax.imshow(cv2.cvtColor(img, cv2.COLOR_BGR2RGB))  # Convert BGR to RGB for proper display\n",
    "            ax.axis('off')\n",
    "            ax.set_title(f'Idx: {i+idx_s}')  # Subplot title\n",
    "        else:\n",
    "            ax.axis('off')\n",
    "\n",
    "    plt.tight_layout()\n",
    "    plt.savefig(f'manual_inspection/{desc}_{idx_s}:{idx_e-1}.png', dpi=300) \n",
    "    plt.show()"
   ]
  },
  {
   "cell_type": "code",
   "execution_count": 4,
   "metadata": {},
   "outputs": [
    {
     "name": "stderr",
     "output_type": "stream",
     "text": [
      "Initial Preprocess: Add Padding:   0%|          | 0/637 [00:00<?, ?it/s]"
     ]
    },
    {
     "name": "stderr",
     "output_type": "stream",
     "text": [
      "Initial Preprocess: Add Padding: 100%|██████████| 637/637 [00:01<00:00, 581.43it/s]\n",
      "Preprocess: Convert to BW & High Contrast Image: 100%|██████████| 637/637 [00:00<00:00, 2542.78it/s]\n",
      "Preprocess: BW Segmented Image: 100%|██████████| 637/637 [00:01<00:00, 548.11it/s]\n",
      "Preprocess: Segment Number Image: 100%|██████████| 637/637 [00:01<00:00, 408.20it/s]\n",
      "Preprocess: Convert to Grayscale Image: 100%|██████████| 637/637 [00:00<00:00, 5191.78it/s]\n"
     ]
    }
   ],
   "source": [
    "train_image = PreprocessImage(img_paths=train_path_array, output_pixel=384, padding_ratio=0.9, path_prefix='train', include_original=False)\n",
    "process = [train_image.bw_image(masked_img=np.array([])), \n",
    "           train_image.segment_white(masked_img=np.array([]), img=None), \n",
    "           train_image.segment_number_image(masked_img=np.array([])), \n",
    "           train_image.gray_image(masked_img=np.array([])), ]\n",
    "desc = ['bw_image',\n",
    "        'segment_white',\n",
    "        'segment_number_image',\n",
    "        'gray_image']\n",
    "imgs=[]\n",
    "for id, proc in enumerate(process):\n",
    "    imgs.append(proc)\n",
    "    # plot_image(img, desc[id])\n",
    "    # print(img.shape)"
   ]
  },
  {
   "cell_type": "code",
   "execution_count": 5,
   "metadata": {},
   "outputs": [
    {
     "name": "stdout",
     "output_type": "stream",
     "text": [
      "(637, 384, 384, 3)\n",
      "(637, 384, 384, 3)\n",
      "(637, 384, 384, 3)\n",
      "(637, 384, 384, 3)\n"
     ]
    }
   ],
   "source": [
    "for img in imgs:\n",
    "    print(img.shape)"
   ]
  },
  {
   "cell_type": "code",
   "execution_count": 6,
   "metadata": {},
   "outputs": [],
   "source": [
    "batch_idx = [i for i in range(0, 601, 50)]\n",
    "batch_idx.append(637)"
   ]
  },
  {
   "cell_type": "code",
   "execution_count": null,
   "metadata": {},
   "outputs": [],
   "source": [
    "for id, img in enumerate(imgs):\n",
    "    for idx in range(1, len(batch_idx)):\n",
    "        plot_image(img, f'{desc[id]}', batch_idx[idx-1], batch_idx[idx])"
   ]
  },
  {
   "cell_type": "code",
   "execution_count": null,
   "metadata": {},
   "outputs": [
    {
     "data": {
      "text/plain": [
       "[0, 50, 100, 150, 200, 250, 300, 350, 400, 450, 500, 550, 600, 637]"
      ]
     },
     "execution_count": 8,
     "metadata": {},
     "output_type": "execute_result"
    }
   ],
   "source": [
    "batch_idx"
   ]
  }
 ],
 "metadata": {
  "kernelspec": {
   "display_name": "base",
   "language": "python",
   "name": "python3"
  },
  "language_info": {
   "codemirror_mode": {
    "name": "ipython",
    "version": 3
   },
   "file_extension": ".py",
   "mimetype": "text/x-python",
   "name": "python",
   "nbconvert_exporter": "python",
   "pygments_lexer": "ipython3",
   "version": "3.10.9"
  },
  "orig_nbformat": 4
 },
 "nbformat": 4,
 "nbformat_minor": 2
}
