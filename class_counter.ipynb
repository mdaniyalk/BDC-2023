{
 "cells": [
  {
   "cell_type": "code",
   "execution_count": 11,
   "metadata": {},
   "outputs": [],
   "source": [
    "alpha = ['A','B','C','D','E','F','G','H','I','J','K','L','M','N','O','P','Q','R','S','T','U','V','W','X','Y','Z']\n",
    "num = [i for i in range(10)]"
   ]
  },
  {
   "cell_type": "code",
   "execution_count": 2,
   "metadata": {},
   "outputs": [],
   "source": [
    "import pandas as pd\n",
    "import numpy as np\n",
    "import re"
   ]
  },
  {
   "cell_type": "code",
   "execution_count": 3,
   "metadata": {},
   "outputs": [],
   "source": [
    "df_train = pd.read_csv('train/DataTrain.csv', delimiter=';')\n",
    "plate_train = df_train['Vehicleregistrationplate'].to_numpy()\n",
    "df_test = pd.read_csv('ground_truth_manual.csv')\n",
    "plate_test = df_test['Ground Truth'].to_numpy()\n",
    "plates = np.concatenate((plate_train, plate_test), axis=0)\n"
   ]
  },
  {
   "cell_type": "code",
   "execution_count": 8,
   "metadata": {},
   "outputs": [],
   "source": [
    "num_class = [] # class for digit numbers\n",
    "cat_class_1 = [] # class for first two alphabet\n",
    "cat_class_2 = [] # class for first alphabet after the digit number\n",
    "cat_class_3 = [] # class for next alphabet\n",
    "cat_class_4 = [] # class for last alphabet\n",
    "\n",
    "\n",
    "for string in plates:\n",
    "    match = re.match(r'([A-Za-z]*)(\\d*)([A-Za-z]*)', string)\n",
    "    if match:\n",
    "        alphabet_before_numeric = match.group(1)\n",
    "        numeric_value = match.group(2)\n",
    "        remaining_alphabet = match.group(3)\n",
    "        if numeric_value == \"\":\n",
    "            numeric_value = \"[PAD]\"\n",
    "        num_class.append(numeric_value)\n",
    "        cat_class_1.append(alphabet_before_numeric)\n",
    "        tmp__ = list(remaining_alphabet)\n",
    "        if len(tmp__) > 0:\n",
    "            cat_class_2.append(tmp__[0])\n",
    "        else:\n",
    "            cat_class_2.append('[PAD]')\n",
    "        if len(tmp__) > 1:\n",
    "            cat_class_3.append(tmp__[1])\n",
    "        else:\n",
    "            cat_class_3.append('[PAD]')\n",
    "        if len(tmp__) > 2:\n",
    "            cat_class_4.append(tmp__[2])\n",
    "        else:\n",
    "            cat_class_4.append('[PAD]')\n",
    "    else:\n",
    "        print(string)\n",
    "        print((plates.tolist()).index(string))\n"
   ]
  },
  {
   "cell_type": "code",
   "execution_count": 9,
   "metadata": {},
   "outputs": [
    {
     "name": "stdout",
     "output_type": "stream",
     "text": [
      "900\n",
      "900\n",
      "900\n",
      "900\n",
      "900\n"
     ]
    }
   ],
   "source": [
    "print(len(plates))\n",
    "print(len(cat_class_1))\n",
    "print(len(cat_class_2))\n",
    "print(len(cat_class_3))\n",
    "print(len(cat_class_4))"
   ]
  },
  {
   "cell_type": "code",
   "execution_count": 10,
   "metadata": {},
   "outputs": [
    {
     "name": "stdout",
     "output_type": "stream",
     "text": [
      "['A' 'AA' 'AB' 'AD' 'AE' 'AF' 'AG' 'AIIS' 'B']\n",
      "9\n",
      "['A' 'B' 'C' 'D' 'E' 'F' 'G' 'H' 'I' 'J' 'K' 'L' 'M' 'N' 'O' 'P' 'Q' 'R'\n",
      " 'S' 'T' 'U' 'V' 'W' 'X' 'Y' 'Z' '[PAD]']\n",
      "27\n",
      "['A' 'B' 'C' 'D' 'E' 'F' 'G' 'H' 'I' 'J' 'K' 'L' 'M' 'N' 'O' 'P' 'Q' 'R'\n",
      " 'S' 'T' 'U' 'V' 'W' 'X' 'Y' 'Z' '[PAD]']\n",
      "27\n",
      "['A' 'B' 'C' 'D' 'E' 'F' 'G' 'H' 'I' 'J' 'K' 'L' 'M' 'N' 'O' 'P' 'Q' 'R'\n",
      " 'S' 'T' 'U' 'V' 'W' 'X' 'Y' 'Z' '[PAD]']\n",
      "27\n"
     ]
    }
   ],
   "source": [
    "print(np.unique(np.asarray(cat_class_1)))\n",
    "print(np.unique(np.asarray(cat_class_1)).shape[0])\n",
    "print(np.unique(np.asarray(cat_class_2)))\n",
    "print(np.unique(np.asarray(cat_class_2)).shape[0])\n",
    "print(np.unique(np.asarray(cat_class_3)))\n",
    "print(np.unique(np.asarray(cat_class_3)).shape[0])\n",
    "print(np.unique(np.asarray(cat_class_4)))\n",
    "print(np.unique(np.asarray(cat_class_4)).shape[0])"
   ]
  },
  {
   "cell_type": "code",
   "execution_count": 7,
   "metadata": {},
   "outputs": [
    {
     "name": "stdout",
     "output_type": "stream",
     "text": [
      "String: AA1234BB\n",
      "Alphabet before numeric: AA\n",
      "Numeric value: 1234\n",
      "Remaining alphabet: BB\n",
      "\n",
      "String: A1920CBA\n",
      "Alphabet before numeric: A\n",
      "Numeric value: 1920\n",
      "Remaining alphabet: CBA\n",
      "\n",
      "String: B9FA\n",
      "Alphabet before numeric: B\n",
      "Numeric value: 9\n",
      "Remaining alphabet: FA\n",
      "\n",
      "String: A1B\n",
      "Alphabet before numeric: A\n",
      "Numeric value: 1\n",
      "Remaining alphabet: B\n",
      "\n",
      "String: AA123\n",
      "Alphabet before numeric: AA\n",
      "Numeric value: 123\n",
      "Remaining alphabet: [EMPTY]\n",
      "\n",
      "String: AB\n",
      "Alphabet before numeric: AB\n",
      "Numeric value: [EMPTY]\n",
      "Remaining alphabet: [EMPTY]\n",
      "\n"
     ]
    }
   ],
   "source": [
    "strings = [\"AA1234BB\", \"A1920CBA\", \"B9FA\", \"A1B\", \"AA123\", \"AB\"]\n",
    "\n",
    "for string in strings:\n",
    "    match = re.match(r'([A-Za-z]*)(\\d*)([A-Za-z]*)', string)\n",
    "    if match:\n",
    "        alphabet_before_numeric = match.group(1)\n",
    "        numeric_value = match.group(2)\n",
    "        remaining_alphabet = match.group(3)\n",
    "        if alphabet_before_numeric == \"\":\n",
    "            alphabet_before_numeric = \"[EMPTY]\"\n",
    "        if numeric_value == \"\":\n",
    "            numeric_value = \"[EMPTY]\"\n",
    "        if remaining_alphabet == \"\":\n",
    "            remaining_alphabet = \"[EMPTY]\"\n",
    "        print(f\"String: {string}\")\n",
    "        print(f\"Alphabet before numeric: {alphabet_before_numeric}\")\n",
    "        print(f\"Numeric value: {numeric_value}\")\n",
    "        print(f\"Remaining alphabet: {remaining_alphabet}\")\n",
    "        print()"
   ]
  }
 ],
 "metadata": {
  "kernelspec": {
   "display_name": "base",
   "language": "python",
   "name": "python3"
  },
  "language_info": {
   "codemirror_mode": {
    "name": "ipython",
    "version": 3
   },
   "file_extension": ".py",
   "mimetype": "text/x-python",
   "name": "python",
   "nbconvert_exporter": "python",
   "pygments_lexer": "ipython3",
   "version": "3.10.9"
  },
  "orig_nbformat": 4
 },
 "nbformat": 4,
 "nbformat_minor": 2
}
