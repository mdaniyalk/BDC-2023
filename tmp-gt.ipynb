{
 "cells": [
  {
   "cell_type": "code",
   "execution_count": 2,
   "metadata": {},
   "outputs": [],
   "source": [
    "gt = ['AD7034OE', 'A9388EX', 'B16TB', 'B1661TKZ', 'AD3722ABE', 'B1271UV', 'B1064TFR',\n",
    "      'B1395TJW', 'B1270RFD', 'B1736BYH', 'B1627BTE', 'B1678WZH', 'AD9313SS', 'B1038UL',\n",
    "      'B1801TZS', 'B1474TJS', 'B1929PU', 'B1260TZT', 'B1376TJO', 'B1QO', 'AD6328LZ',\n",
    "      'B1236PZH', 'AB8644PK', 'B1JKT', 'AA7084OD', 'B1131EKG', 'B1037UN', 'B1036UL',\n",
    "      'AD8820CB', 'A9192ZM', 'B8120KXT', 'B1643TRO', 'B1390TJU', 'AB2681VD', 'B1860EFT',\n",
    "      'A8749FS', 'B1566FON', 'B1063SJQ', 'B1254TFX', 'B1038JCY', 'AB4923UH', 'B1590UN',\n",
    "      'B1937TLP', 'B4204UL', 'B1062TMZ', 'B1724PYW', 'B1102SIW', 'AD7034OE', 'AB4352CX',\n",
    "      'B1895EJB', 'B1786UJT', 'B1549RFS', 'B1869EOF', 'B1713VX', 'B1063SPW', 'B1661TKZ',\n",
    "      'A8014VA', 'B1873YU', 'B1820O', 'B1422BK', 'AB5278XA', 'AD418U', 'B1157Y', 'B1233RFD',\n",
    "      'B1031NI', 'AD99JR', 'B1683SEY', 'AA7004OF', 'B1241SSW', 'B1632TJJ', 'B1907ELR',\n",
    "      'B1815TJD', 'B1734UJN', 'B1743EYF', 'B1075DO', 'AB2833IN', 'B1523TJT', 'B1157SSL',\n",
    "      'B1713VX', 'B1361TJS', 'A9388EX', 'B1532NKY', 'B1800UYD', 'B1411TVE', 'AD37B7KE',\n",
    "      'B1338RFD', 'B1903RFD', 'AB2958QH', 'AD418U', 'B1885TLP', 'B1634SSN', 'AB3511BH',\n",
    "      'B1726UUA', 'B1820TJV', 'B1619URB', 'B1285UL', 'AB8644PK', 'AG9718EG', 'B1509UN',\n",
    "      'B1408RX']"
   ]
  },
  {
   "cell_type": "code",
   "execution_count": 1,
   "metadata": {},
   "outputs": [],
   "source": [
    "import pandas as pd\n",
    "import numpy as np"
   ]
  },
  {
   "cell_type": "code",
   "execution_count": 8,
   "metadata": {},
   "outputs": [
    {
     "data": {
      "text/html": [
       "<div>\n",
       "<style scoped>\n",
       "    .dataframe tbody tr th:only-of-type {\n",
       "        vertical-align: middle;\n",
       "    }\n",
       "\n",
       "    .dataframe tbody tr th {\n",
       "        vertical-align: top;\n",
       "    }\n",
       "\n",
       "    .dataframe thead th {\n",
       "        text-align: right;\n",
       "    }\n",
       "</style>\n",
       "<table border=\"1\" class=\"dataframe\">\n",
       "  <thead>\n",
       "    <tr style=\"text-align: right;\">\n",
       "      <th></th>\n",
       "      <th>Name of File</th>\n",
       "    </tr>\n",
       "  </thead>\n",
       "  <tbody>\n",
       "    <tr>\n",
       "      <th>0</th>\n",
       "      <td>DataTest1.png</td>\n",
       "    </tr>\n",
       "    <tr>\n",
       "      <th>1</th>\n",
       "      <td>DataTest2.png</td>\n",
       "    </tr>\n",
       "    <tr>\n",
       "      <th>2</th>\n",
       "      <td>DataTest3.png</td>\n",
       "    </tr>\n",
       "    <tr>\n",
       "      <th>3</th>\n",
       "      <td>DataTest4.png</td>\n",
       "    </tr>\n",
       "    <tr>\n",
       "      <th>4</th>\n",
       "      <td>DataTest5.png</td>\n",
       "    </tr>\n",
       "  </tbody>\n",
       "</table>\n",
       "</div>"
      ],
      "text/plain": [
       "    Name of File\n",
       "0  DataTest1.png\n",
       "1  DataTest2.png\n",
       "2  DataTest3.png\n",
       "3  DataTest4.png\n",
       "4  DataTest5.png"
      ]
     },
     "execution_count": 8,
     "metadata": {},
     "output_type": "execute_result"
    }
   ],
   "source": [
    "df = pd.read_csv('test/DataTest.csv', delimiter=';')\n",
    "df = df.drop(['Unnamed: 0'], axis=1)\n",
    "df.head()"
   ]
  },
  {
   "cell_type": "code",
   "execution_count": 9,
   "metadata": {},
   "outputs": [
    {
     "data": {
      "text/html": [
       "<div>\n",
       "<style scoped>\n",
       "    .dataframe tbody tr th:only-of-type {\n",
       "        vertical-align: middle;\n",
       "    }\n",
       "\n",
       "    .dataframe tbody tr th {\n",
       "        vertical-align: top;\n",
       "    }\n",
       "\n",
       "    .dataframe thead th {\n",
       "        text-align: right;\n",
       "    }\n",
       "</style>\n",
       "<table border=\"1\" class=\"dataframe\">\n",
       "  <thead>\n",
       "    <tr style=\"text-align: right;\">\n",
       "      <th></th>\n",
       "      <th>Name of File</th>\n",
       "      <th>Ground Truth</th>\n",
       "    </tr>\n",
       "  </thead>\n",
       "  <tbody>\n",
       "    <tr>\n",
       "      <th>0</th>\n",
       "      <td>DataTest1.png</td>\n",
       "      <td>AD7034OE</td>\n",
       "    </tr>\n",
       "    <tr>\n",
       "      <th>1</th>\n",
       "      <td>DataTest2.png</td>\n",
       "      <td>A9388EX</td>\n",
       "    </tr>\n",
       "    <tr>\n",
       "      <th>2</th>\n",
       "      <td>DataTest3.png</td>\n",
       "      <td>B16TB</td>\n",
       "    </tr>\n",
       "    <tr>\n",
       "      <th>3</th>\n",
       "      <td>DataTest4.png</td>\n",
       "      <td>B1661TKZ</td>\n",
       "    </tr>\n",
       "    <tr>\n",
       "      <th>4</th>\n",
       "      <td>DataTest5.png</td>\n",
       "      <td>AD3722ABE</td>\n",
       "    </tr>\n",
       "  </tbody>\n",
       "</table>\n",
       "</div>"
      ],
      "text/plain": [
       "    Name of File Ground Truth\n",
       "0  DataTest1.png     AD7034OE\n",
       "1  DataTest2.png      A9388EX\n",
       "2  DataTest3.png        B16TB\n",
       "3  DataTest4.png     B1661TKZ\n",
       "4  DataTest5.png    AD3722ABE"
      ]
     },
     "execution_count": 9,
     "metadata": {},
     "output_type": "execute_result"
    }
   ],
   "source": [
    "df['Ground Truth'] = gt\n",
    "df.head()"
   ]
  },
  {
   "cell_type": "code",
   "execution_count": 10,
   "metadata": {},
   "outputs": [],
   "source": [
    "df.to_csv('ground_truth_manual.csv')"
   ]
  }
 ],
 "metadata": {
  "kernelspec": {
   "display_name": "base",
   "language": "python",
   "name": "python3"
  },
  "language_info": {
   "codemirror_mode": {
    "name": "ipython",
    "version": 3
   },
   "file_extension": ".py",
   "mimetype": "text/x-python",
   "name": "python",
   "nbconvert_exporter": "python",
   "pygments_lexer": "ipython3",
   "version": "3.10.9"
  },
  "orig_nbformat": 4
 },
 "nbformat": 4,
 "nbformat_minor": 2
}
